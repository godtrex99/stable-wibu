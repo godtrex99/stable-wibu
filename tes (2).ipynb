{
 "cells": [
  {
   "cell_type": "code",
   "execution_count": null,
   "id": "f3a551d5-247e-465c-880a-1f983c77c7f8",
   "metadata": {
    "tags": []
   },
   "outputs": [],
   "source": [
    "ngrok_token = \"Input_ngrok_here\""
   ]
  },
  {
   "cell_type": "code",
   "execution_count": null,
   "id": "ce55dcc7-8a0a-42d4-b60c-86a2a8c5a512",
   "metadata": {
    "tags": []
   },
   "outputs": [],
   "source": [
    "!mkdir /home/studio-lab-user/content\n",
    "%cd /home/studio-lab-user/content\n",
    "%conda install -q -y aria2\n",
    "%conda install -q -y libglib2.0-0\n",
    "%conda install -q -y glib\n",
    "%pip install -q opencv-python-headless huggingface-hub\n",
    "!pip install -q torch==2.0.1+cu118 torchvision==0.15.2+cu118 torchaudio==2.0.2+cu118 torchtext==0.15.2 torchdata==0.6.1 --extra-index-url https://download.pytorch.org/whl/cu118 -U\n",
    "!pip install -q xformers==0.0.20 triton==2.0.0 -U\n",
    "!git clone https://github.com/godtrex99/stable-wibu stable-wibu\n",
    "!git clone https://huggingface.co/embed/negative /home/studio-lab-user/content/stable-wibu/embeddings/negative\n",
    "!git clone https://huggingface.co/embed/lora /home/studio-lab-user/content/stable-wibu/models/Lora/positive\n",
    "!git clone https://github.com/godtrex99/images-browser /home/studio-lab-user/content/stable-wibu/extensions/images-browser\n",
    "!git clone https://github.com/SignalFlagZ/sd-webui-civbrowser /home/studio-lab-user/content/stable-wibu/extensions/civitai-browser\n",
    "!git clone https://github.com/godtrex99/addons-net /home/studio-lab-user/content/stable-wibu/extensions/additional-networks\n",
    "!git clone https://github.com/Bing-su/adetailer /home/studio-lab-user/content/stable-wibu/extensions/detailer\n",
    "%cd /home/studio-lab-user/content/stable-wibu\n",
    "!aria2c --console-log-level=error -c -x 16 -s 16 -k 1M https://civitai.com/api/download/models/126470 -d /home/studio-lab-user/content/stable-wibu/models/Stable-diffusion -o majicmix.safetensors\n",
    "!aria2c --console-log-level=error -c -x 16 -s 16 -k 1M https://huggingface.co/embed/upscale/resolve/main/4x-UltraSharp.pth -d /home/studio-lab-user/content/stable-wibu/models/ESRGAN -o 4x-UltraSharp.pth"
   ]
  },
  {
   "cell_type": "code",
   "execution_count": null,
   "id": "017ad933-e94f-4a0c-ba18-f814f94f04ff",
   "metadata": {
    "tags": []
   },
   "outputs": [],
   "source": [
    "%cd /home/studio-lab-user/content/stable-wibu\n",
    "!git reset --hard\n",
    "!python launch.py --listen --xformers --enable-insecure-extension-access --theme dark --gradio-queue --ngrok {ngrok_token}"
   ]
  }
 ],
 "metadata": {
  "kernelspec": {
   "display_name": "default:Python",
   "language": "python",
   "name": "conda-env-default-py"
  },
  "language_info": {
   "codemirror_mode": {
    "name": "ipython",
    "version": 3
   },
   "file_extension": ".py",
   "mimetype": "text/x-python",
   "name": "python",
   "nbconvert_exporter": "python",
   "pygments_lexer": "ipython3",
   "version": "3.9.16"
  }
 },
 "nbformat": 4,
 "nbformat_minor": 5
}
